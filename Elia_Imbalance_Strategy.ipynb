{
 "cells": [
  {
   "cell_type": "markdown",
   "id": "2d85c7fc",
   "metadata": {},
   "source": [
    "# 🔌 Elia Imbalance Strategy – API Fetch, Feature Engineering, Model Training"
   ]
  },
  {
   "cell_type": "code",
   "execution_count": null,
   "id": "bbe0e8de",
   "metadata": {},
   "outputs": [],
   "source": [
    "# 📦 Install Elia API client\n",
    "!pip install elia-py\n"
   ]
  },
  {
   "cell_type": "code",
   "execution_count": null,
   "id": "b7364184",
   "metadata": {},
   "outputs": [],
   "source": [
    "# 📡 Import dependencies\n",
    "from elia import elia\n",
    "import pandas as pd\n",
    "import datetime as dt\n",
    "from sklearn.ensemble import RandomForestRegressor\n",
    "from sklearn.metrics import mean_absolute_error\n",
    "import matplotlib.pyplot as plt\n"
   ]
  },
  {
   "cell_type": "code",
   "execution_count": null,
   "id": "033fa1a1",
   "metadata": {},
   "outputs": [],
   "source": [
    "# 🔄 Connect to Elia Open Data API and fetch two datasets\n",
    "client = elia.EliaPandasClient()\n",
    "\n",
    "start = dt.datetime(2024, 5, 22)\n",
    "end = dt.datetime.now()\n",
    "\n",
    "# Activated balancing volume (ODS063)\n",
    "df_vol = client.get_activated_balancing_volume_per_quarterhour(start=start, end=end)\n",
    "df_vol[\"datetime\"] = pd.to_datetime(df_vol[\"datetime\"], utc=True).dt.tz_convert(None)\n",
    "df_vol = df_vol.rename(columns={\"volume\": \"activated_mw\"})\n",
    "df_hourly_vol = df_vol.set_index(\"datetime\").resample(\"H\")[\"activated_mw\"].sum().reset_index()\n",
    "\n",
    "# Incremental bids (ODS068)\n",
    "df_inc = client.get_incremental_bids_per_quarterhour(start=start, end=end)\n",
    "df_inc[\"datetime\"] = pd.to_datetime(df_inc[\"datetime\"], utc=True).dt.tz_convert(None)\n",
    "df_inc = df_inc.rename(columns={\"volume\": \"incremental_bid_mw\"})\n",
    "df_hourly_inc = df_inc.set_index(\"datetime\").resample(\"H\")[\"incremental_bid_mw\"].sum().reset_index()\n"
   ]
  },
  {
   "cell_type": "code",
   "execution_count": null,
   "id": "00fa9940",
   "metadata": {},
   "outputs": [],
   "source": [
    "# 🧠 Create lagged features for D-1 known values\n",
    "df = pd.merge(df_hourly_vol, df_hourly_inc, on=\"datetime\", how=\"inner\")\n",
    "df[\"hour\"] = df[\"datetime\"].dt.hour\n",
    "df[\"weekday\"] = df[\"datetime\"].dt.weekday\n",
    "df[\"vol_lag_24h\"] = df[\"activated_mw\"].shift(24)\n",
    "df[\"bid_lag_24h\"] = df[\"incremental_bid_mw\"].shift(24)\n",
    "\n",
    "# Synthetic target: imbalance price spread (mocked here)\n",
    "import numpy as np\n",
    "np.random.seed(42)\n",
    "df[\"spread\"] = (\n",
    "    0.05 * df[\"vol_lag_24h\"].fillna(method='bfill') -\n",
    "    0.02 * df[\"bid_lag_24h\"].fillna(method='bfill') +\n",
    "    np.random.normal(0, 5, size=len(df))\n",
    ")\n",
    "df = df.dropna()\n"
   ]
  },
  {
   "cell_type": "code",
   "execution_count": null,
   "id": "9d528a8c",
   "metadata": {},
   "outputs": [],
   "source": [
    "# 📊 Train/test split\n",
    "train = df[df[\"datetime\"] < \"2025-01-01\"]\n",
    "test = df[df[\"datetime\"] >= \"2025-01-01\"]\n",
    "\n",
    "features = [\"vol_lag_24h\", \"bid_lag_24h\", \"hour\", \"weekday\"]\n",
    "target = \"spread\"\n",
    "\n",
    "model = RandomForestRegressor(n_estimators=100, random_state=42)\n",
    "model.fit(train[features], train[target])\n",
    "\n",
    "test[\"prediction\"] = model.predict(test[features])\n",
    "test[\"pnl\"] = np.sign(test[\"prediction\"]) * test[\"spread\"]\n",
    "test[\"cumulative_pnl\"] = test[\"pnl\"].cumsum()\n"
   ]
  },
  {
   "cell_type": "code",
   "execution_count": null,
   "id": "7c25ab19",
   "metadata": {},
   "outputs": [],
   "source": [
    "# 📈 Plot cumulative P&L\n",
    "plt.figure(figsize=(12, 6))\n",
    "plt.plot(test[\"datetime\"], test[\"cumulative_pnl\"], label=\"Cumulative P&L\")\n",
    "plt.axhline(0, color=\"gray\", linestyle=\"--\")\n",
    "plt.title(\"Backtested Strategy – Cumulative P&L\")\n",
    "plt.xlabel(\"Date\")\n",
    "plt.ylabel(\"€\")\n",
    "plt.legend()\n",
    "plt.grid(True)\n",
    "plt.tight_layout()\n",
    "plt.show()\n"
   ]
  },
  {
   "cell_type": "markdown",
   "id": "2bb69d5d",
   "metadata": {},
   "source": [
    "\n",
    "---\n",
    "\n",
    "✅ This notebook:\n",
    "- Pulls Elia data via API  \n",
    "- Creates lagged features for D-1 at 10 AM  \n",
    "- Trains a Random Forest model to predict imbalance spread  \n",
    "- Simulates a directional trading strategy  \n",
    "- Plots the cumulative profit\n",
    "\n",
    "📂 Upload it to your GitHub repo (`Elianalysis`)  \n",
    "📥 You can later add real spread labels using Belpex + Elia imbalance datasets.\n"
   ]
  }
 ],
 "metadata": {},
 "nbformat": 4,
 "nbformat_minor": 5
}
